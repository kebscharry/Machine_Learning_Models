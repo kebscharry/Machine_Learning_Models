{
  "cells": [
    {
      "cell_type": "markdown",
      "metadata": {
        "id": "view-in-github",
        "colab_type": "text"
      },
      "source": [
        "<a href=\"https://colab.research.google.com/github/kebscharry/Machine_Learning_Models/blob/main/ENGAGE__MODEL_DEPLOYMENT_revised.ipynb\" target=\"_parent\"><img src=\"https://colab.research.google.com/assets/colab-badge.svg\" alt=\"Open In Colab\"/></a>"
      ]
    },
    {
      "cell_type": "markdown",
      "id": "cc1421ad",
      "metadata": {
        "id": "cc1421ad"
      },
      "source": [
        "<h2>MODEL DEPLOYMENT</h2>\n",
        "\n",
        "By the end of this module the learner should be able to:\n",
        "1. Define model deployment.\n",
        "2. Distinguish between the different deployment models.\n",
        "3. Identify the various deployment environments.\n",
        "4. Create a web app using streamlit.\n",
        "5. Create a model\n",
        "6. Integrate a model into an application.\n",
        "\n",
        "<h2>Definition of model deployment</h2>\n",
        "\n",
        "Lets us start by thinking about what model deployment is all about. When we create the models in our jupyter notebooks or R environment, we are not able to share this with the people who want to constantily use them for the machine learning tasks such as predictions, classification and so on. We therefore need to make our models accessible for the actual users to be able to use them. This process of availing our models to potential users is what is reffered to us **model deployment**.\n",
        "\n",
        "Deploying a  model will involve integrating it with existing applications. For example if you were building a machine learning model to help doctors diagnosize patients with diabetics, you will need to integrate it with the existing health management system used in the hospital or you will need to develop an application that will help the doctor put the patients sysmptoms and then this information is sent to the model through an API (Intergreted application interface). The model then serves the request and sends the prediction to the doctor.\n",
        "\n",
        "As much as model deployment is the last stage in the machine learning cycle, model deployment is the first step in what is reffered to us model management.\n",
        "\n",
        "A typical cycle for machine learning model management is shown in the diagram below;\n",
        "\n",
        "\n",
        "The first step  involves the deployment of the model. Once the model is deployed, its performance is monitored. If the performance of the model reduces to a cerain level, the model will require retraining and evaluation and so that the old model can be replaced with a new model.\n",
        "\n",
        "<h3>Why deploy the models</h3>\n",
        "\n",
        "- Model deployment is the final step in the machine learning pipeline, where the model transitions from a development/testing phase to real-world usage.\n",
        "- Deployed models enable organizations to automate decision-making processes, optimize workflows, and derive actionable insights from data.\n",
        "- Efficient deployment ensures that the benefits of machine learning models are realized in practical applications, leading to improved efficiency, accuracy, and competitiveness.\n",
        "\n",
        "<h2>Machine learning model deployment models</h2>\n",
        "\n",
        "In general, there are 3 ways you can deploy our trained machine learning model.\n",
        "\n",
        "1. one off\n",
        "The one off model is applicable in cases where the model is only required at one particular time. This is appliable if the model is required for a temporary task. This can be applicable in a scenerio where for example if the governemnt is rolling out vaccination lets say for measals, they can develop a model for predicting the people at high risk for priotizing the distribution of the vaccine.\n",
        "\n",
        "2. Batch\n",
        "The batch model allows you to have an updated version of the model at all times. This is useful in cases where you do not need predictions done on real time data. The model gets trained on the whole dataset at certain period and used for prediction. An applicable area can be in disease servillance where the data is collected periodically like monthly and used in training the model.\n",
        "3. Realtime\n",
        "\n",
        "Realtime deployment is applicable where predictions are needed in realtime. Realtime deployment of the machine learning model can be applicable in cases such as disease servillance in case of pandemics where you might want to know everytime where new cases are reported.\n",
        "\n",
        "<h2>Factors to consider when choosing a model deployment model</h2>\n",
        "\n",
        "- How frequent/often are the predictions required and how urgent the results are required\n",
        "\n",
        "- Do we need individualpredictions or batch predictions\n",
        "\n",
        "- Cost of deploying the model\n",
        "- Computing capabilities required by the model\n",
        "- The complexity of the model. Realtime deployment model requires less complex models\n",
        "\n",
        "<h2>Challenges in machine learning model deployment</h2>\n",
        "\n",
        "- The discrepancies in programming langauges: As you have noted by now machine learning models mostily using R or Python but most applications that the model need to be integreated into are written in other langauges such as Java, PhP, type script, Ruby, C#. The integration of the models to this applications may pose a challenge.\n",
        "\n",
        "- Model drift: When the performance of a machine learning model degrades to a level that is below the benchmark, it is reffered to us model drift. Depending on the use of the model, the degradation of the model performance can cause a major impact expecially in the medical field. It is therefore very important to be able to monitor the performance of machine learning models so that any degradation in performance can be captured at an early stage. Model degradation can be caused by:\n",
        "\n",
        "1. Changing data behavior: In a typical machine learning model creation, the model is trained using historical data which is in a particular format but we know data data can change and the machine learning model will be exposed with data it has not seen before hence the poor performance. For example if a machine learning was trained to identify wheather someone had covid-19 using the data collected in 2019 which had various symptoms. At the beginning the machine learning model will perform well when patients present with the same symptoms the model was trained for. But over time when new variants of Covid-19 with different symptoms arise, the model may fail to identify if a person has Covid-19 based on the new symptoms. In such cases when there is a degredation of the performance of the model, is important to train the model on the emwrging data  or new data.\n",
        "\n",
        "2. Changing interpretation of the new data (Concept drift): Concept drift happens when the clasification of an outcome variable changes in meaning. For example if previous target variable for the machine learning model for covid during the early stages was either someone had covid or not. But with the emergence of the new variants more outcome variable are available. Instead of just wanting to know if someone has covid or not, one will be interested to find the covid variant that soemone is suffering from based on the symptoms. With such change it is important to retrain the model with the new knowledge.\n",
        "\n",
        "3. Deploying the model on the cloud or on premise: Just like the discussion on whether to adopt cloud compputing or deploy applications on premise, the decisons of where the model will be hosted has trendoffs to be made. The issues of security, privacy and accessibility will suffice.\n",
        "4. Model monitoring: It is important to have model monitorin plan. This will help in being able to determine the threshold of the model performance. If there is no plan, there is a danger of failing to monitor the performance of the model.\n",
        "\n",
        "5. Vesrion control: With the fact that the machine learning model will need to be retrained, it is important to keep tab of the versions of the model so that in case of anything you can always go back to the previous working version. One of the most common used version control tools is called Github.\n",
        "\n",
        "\n",
        "<h2>Deployment environments</h2>\n",
        "\n",
        "1. streamlit\n",
        "2. Heroku\n",
        "3. TensorFlow Serving with Docker\n",
        "4. AWS\n",
        "5. Microsoft Azure\n",
        "\n",
        "These are just a few places where you can deploy your machine learning model. You can explore more deployment environments.\n",
        "\n",
        "<h2>Steps for deploying a machine learning model</h2>\n",
        "\n",
        "1. Training of the model\n",
        "2. Saving the model\n",
        "3. Select the deployment environment\n",
        "4. Set up the requirements: These are dependancies that the model depends on such as all the libraries that were imported.\n",
        "5. Serve the model using REST API such as flask, Django, FastAPI or streamlit\n",
        "6. Deploy the model in the selected environment such as heroku server, AWS e.tc.\n",
        "7. Create the interface to access the model such as a webform\n",
        "\n",
        "Lets go through the process listed above using an example for predicting the probablity that someone has cholera or not?\n",
        "\n",
        "<h2>Machine learning deployment as a web service</h2>\n",
        "\n",
        "As we have already learnt, we mainly test and train our machine learning models using Google Colab/jupyter notebook but if we require to conect our model to an app or web service, we will need to deploy it as a webserver. This server can either be in the cloud or on premise. In this section, we are going to explore how to deploy our model Using streamlit.\n",
        "\n",
        "** Introduction to Streamlit**\n",
        "\n",
        "Streamlit is an easy to use open-source Python library used to create and share custom web apps for machine learning and data science projects. It allows you to turn your trained models into shareable web apps in minutes, without needing extensive web development skills.\n",
        "\n",
        "A web application, is an application that you can access using the browser\n",
        "\n",
        "Before we use streamlit to deploy our model, we will need to first of all install it. To install it, we will use pip which you were introduced to in the first chapter. The code to install streamlit is as follows\n",
        "\n",
        "    pip install streamlit\n",
        "If you already have it in the machine, you will get the message \"requirements satisified\"\n",
        "\n",
        "Let's start by learning a few commands that you can use in streamlit by creating the hello world web app."
      ]
    },
    {
      "cell_type": "code",
      "execution_count": 1,
      "id": "DdQxRN517c9E",
      "metadata": {
        "colab": {
          "base_uri": "https://localhost:8080/"
        },
        "id": "DdQxRN517c9E",
        "outputId": "ff1155d5-a068-4963-89e3-4812d005a029"
      },
      "outputs": [
        {
          "output_type": "stream",
          "name": "stdout",
          "text": [
            "Collecting streamlit\n",
            "  Downloading streamlit-1.37.1-py2.py3-none-any.whl.metadata (8.5 kB)\n",
            "Requirement already satisfied: altair<6,>=4.0 in /usr/local/lib/python3.10/dist-packages (from streamlit) (4.2.2)\n",
            "Requirement already satisfied: blinker<2,>=1.0.0 in /usr/lib/python3/dist-packages (from streamlit) (1.4)\n",
            "Requirement already satisfied: cachetools<6,>=4.0 in /usr/local/lib/python3.10/dist-packages (from streamlit) (5.4.0)\n",
            "Requirement already satisfied: click<9,>=7.0 in /usr/local/lib/python3.10/dist-packages (from streamlit) (8.1.7)\n",
            "Requirement already satisfied: numpy<3,>=1.20 in /usr/local/lib/python3.10/dist-packages (from streamlit) (1.26.4)\n",
            "Requirement already satisfied: packaging<25,>=20 in /usr/local/lib/python3.10/dist-packages (from streamlit) (24.1)\n",
            "Requirement already satisfied: pandas<3,>=1.3.0 in /usr/local/lib/python3.10/dist-packages (from streamlit) (2.1.4)\n",
            "Requirement already satisfied: pillow<11,>=7.1.0 in /usr/local/lib/python3.10/dist-packages (from streamlit) (9.4.0)\n",
            "Requirement already satisfied: protobuf<6,>=3.20 in /usr/local/lib/python3.10/dist-packages (from streamlit) (3.20.3)\n",
            "Requirement already satisfied: pyarrow>=7.0 in /usr/local/lib/python3.10/dist-packages (from streamlit) (14.0.2)\n",
            "Requirement already satisfied: requests<3,>=2.27 in /usr/local/lib/python3.10/dist-packages (from streamlit) (2.32.3)\n",
            "Requirement already satisfied: rich<14,>=10.14.0 in /usr/local/lib/python3.10/dist-packages (from streamlit) (13.7.1)\n",
            "Collecting tenacity<9,>=8.1.0 (from streamlit)\n",
            "  Downloading tenacity-8.5.0-py3-none-any.whl.metadata (1.2 kB)\n",
            "Requirement already satisfied: toml<2,>=0.10.1 in /usr/local/lib/python3.10/dist-packages (from streamlit) (0.10.2)\n",
            "Requirement already satisfied: typing-extensions<5,>=4.3.0 in /usr/local/lib/python3.10/dist-packages (from streamlit) (4.12.2)\n",
            "Collecting gitpython!=3.1.19,<4,>=3.0.7 (from streamlit)\n",
            "  Downloading GitPython-3.1.43-py3-none-any.whl.metadata (13 kB)\n",
            "Collecting pydeck<1,>=0.8.0b4 (from streamlit)\n",
            "  Downloading pydeck-0.9.1-py2.py3-none-any.whl.metadata (4.1 kB)\n",
            "Requirement already satisfied: tornado<7,>=6.0.3 in /usr/local/lib/python3.10/dist-packages (from streamlit) (6.3.3)\n",
            "Collecting watchdog<5,>=2.1.5 (from streamlit)\n",
            "  Downloading watchdog-4.0.2-py3-none-manylinux2014_x86_64.whl.metadata (38 kB)\n",
            "Requirement already satisfied: entrypoints in /usr/local/lib/python3.10/dist-packages (from altair<6,>=4.0->streamlit) (0.4)\n",
            "Requirement already satisfied: jinja2 in /usr/local/lib/python3.10/dist-packages (from altair<6,>=4.0->streamlit) (3.1.4)\n",
            "Requirement already satisfied: jsonschema>=3.0 in /usr/local/lib/python3.10/dist-packages (from altair<6,>=4.0->streamlit) (4.23.0)\n",
            "Requirement already satisfied: toolz in /usr/local/lib/python3.10/dist-packages (from altair<6,>=4.0->streamlit) (0.12.1)\n",
            "Collecting gitdb<5,>=4.0.1 (from gitpython!=3.1.19,<4,>=3.0.7->streamlit)\n",
            "  Downloading gitdb-4.0.11-py3-none-any.whl.metadata (1.2 kB)\n",
            "Requirement already satisfied: python-dateutil>=2.8.2 in /usr/local/lib/python3.10/dist-packages (from pandas<3,>=1.3.0->streamlit) (2.8.2)\n",
            "Requirement already satisfied: pytz>=2020.1 in /usr/local/lib/python3.10/dist-packages (from pandas<3,>=1.3.0->streamlit) (2024.1)\n",
            "Requirement already satisfied: tzdata>=2022.1 in /usr/local/lib/python3.10/dist-packages (from pandas<3,>=1.3.0->streamlit) (2024.1)\n",
            "Requirement already satisfied: charset-normalizer<4,>=2 in /usr/local/lib/python3.10/dist-packages (from requests<3,>=2.27->streamlit) (3.3.2)\n",
            "Requirement already satisfied: idna<4,>=2.5 in /usr/local/lib/python3.10/dist-packages (from requests<3,>=2.27->streamlit) (3.7)\n",
            "Requirement already satisfied: urllib3<3,>=1.21.1 in /usr/local/lib/python3.10/dist-packages (from requests<3,>=2.27->streamlit) (2.0.7)\n",
            "Requirement already satisfied: certifi>=2017.4.17 in /usr/local/lib/python3.10/dist-packages (from requests<3,>=2.27->streamlit) (2024.7.4)\n",
            "Requirement already satisfied: markdown-it-py>=2.2.0 in /usr/local/lib/python3.10/dist-packages (from rich<14,>=10.14.0->streamlit) (3.0.0)\n",
            "Requirement already satisfied: pygments<3.0.0,>=2.13.0 in /usr/local/lib/python3.10/dist-packages (from rich<14,>=10.14.0->streamlit) (2.16.1)\n",
            "Collecting smmap<6,>=3.0.1 (from gitdb<5,>=4.0.1->gitpython!=3.1.19,<4,>=3.0.7->streamlit)\n",
            "  Downloading smmap-5.0.1-py3-none-any.whl.metadata (4.3 kB)\n",
            "Requirement already satisfied: MarkupSafe>=2.0 in /usr/local/lib/python3.10/dist-packages (from jinja2->altair<6,>=4.0->streamlit) (2.1.5)\n",
            "Requirement already satisfied: attrs>=22.2.0 in /usr/local/lib/python3.10/dist-packages (from jsonschema>=3.0->altair<6,>=4.0->streamlit) (24.2.0)\n",
            "Requirement already satisfied: jsonschema-specifications>=2023.03.6 in /usr/local/lib/python3.10/dist-packages (from jsonschema>=3.0->altair<6,>=4.0->streamlit) (2023.12.1)\n",
            "Requirement already satisfied: referencing>=0.28.4 in /usr/local/lib/python3.10/dist-packages (from jsonschema>=3.0->altair<6,>=4.0->streamlit) (0.35.1)\n",
            "Requirement already satisfied: rpds-py>=0.7.1 in /usr/local/lib/python3.10/dist-packages (from jsonschema>=3.0->altair<6,>=4.0->streamlit) (0.20.0)\n",
            "Requirement already satisfied: mdurl~=0.1 in /usr/local/lib/python3.10/dist-packages (from markdown-it-py>=2.2.0->rich<14,>=10.14.0->streamlit) (0.1.2)\n",
            "Requirement already satisfied: six>=1.5 in /usr/local/lib/python3.10/dist-packages (from python-dateutil>=2.8.2->pandas<3,>=1.3.0->streamlit) (1.16.0)\n",
            "Downloading streamlit-1.37.1-py2.py3-none-any.whl (8.7 MB)\n",
            "\u001b[2K   \u001b[90m━━━━━━━━━━━━━━━━━━━━━━━━━━━━━━━━━━━━━━━━\u001b[0m \u001b[32m8.7/8.7 MB\u001b[0m \u001b[31m42.1 MB/s\u001b[0m eta \u001b[36m0:00:00\u001b[0m\n",
            "\u001b[?25hDownloading GitPython-3.1.43-py3-none-any.whl (207 kB)\n",
            "\u001b[2K   \u001b[90m━━━━━━━━━━━━━━━━━━━━━━━━━━━━━━━━━━━━━━━━\u001b[0m \u001b[32m207.3/207.3 kB\u001b[0m \u001b[31m8.7 MB/s\u001b[0m eta \u001b[36m0:00:00\u001b[0m\n",
            "\u001b[?25hDownloading pydeck-0.9.1-py2.py3-none-any.whl (6.9 MB)\n",
            "\u001b[2K   \u001b[90m━━━━━━━━━━━━━━━━━━━━━━━━━━━━━━━━━━━━━━━━\u001b[0m \u001b[32m6.9/6.9 MB\u001b[0m \u001b[31m59.1 MB/s\u001b[0m eta \u001b[36m0:00:00\u001b[0m\n",
            "\u001b[?25hDownloading tenacity-8.5.0-py3-none-any.whl (28 kB)\n",
            "Downloading watchdog-4.0.2-py3-none-manylinux2014_x86_64.whl (82 kB)\n",
            "\u001b[2K   \u001b[90m━━━━━━━━━━━━━━━━━━━━━━━━━━━━━━━━━━━━━━━━\u001b[0m \u001b[32m82.9/82.9 kB\u001b[0m \u001b[31m4.8 MB/s\u001b[0m eta \u001b[36m0:00:00\u001b[0m\n",
            "\u001b[?25hDownloading gitdb-4.0.11-py3-none-any.whl (62 kB)\n",
            "\u001b[2K   \u001b[90m━━━━━━━━━━━━━━━━━━━━━━━━━━━━━━━━━━━━━━━━\u001b[0m \u001b[32m62.7/62.7 kB\u001b[0m \u001b[31m4.0 MB/s\u001b[0m eta \u001b[36m0:00:00\u001b[0m\n",
            "\u001b[?25hDownloading smmap-5.0.1-py3-none-any.whl (24 kB)\n",
            "Installing collected packages: watchdog, tenacity, smmap, pydeck, gitdb, gitpython, streamlit\n",
            "  Attempting uninstall: tenacity\n",
            "    Found existing installation: tenacity 9.0.0\n",
            "    Uninstalling tenacity-9.0.0:\n",
            "      Successfully uninstalled tenacity-9.0.0\n",
            "Successfully installed gitdb-4.0.11 gitpython-3.1.43 pydeck-0.9.1 smmap-5.0.1 streamlit-1.37.1 tenacity-8.5.0 watchdog-4.0.2\n"
          ]
        }
      ],
      "source": [
        "!pip install streamlit"
      ]
    },
    {
      "cell_type": "markdown",
      "id": "o448uouALFuZ",
      "metadata": {
        "id": "o448uouALFuZ"
      },
      "source": [
        "Before we start using streamlit, we have to import it. We will import it with an alias st the same way we were importing pandas with the alias pd as follows"
      ]
    },
    {
      "cell_type": "code",
      "execution_count": 2,
      "id": "n27d8QQMYzGN",
      "metadata": {
        "colab": {
          "base_uri": "https://localhost:8080/"
        },
        "id": "n27d8QQMYzGN",
        "outputId": "53500f09-18f5-45b3-b8a5-fa65b2274924"
      },
      "outputs": [
        {
          "output_type": "stream",
          "name": "stderr",
          "text": [
            "2024-08-22 08:47:32.658 \n",
            "  \u001b[33m\u001b[1mWarning:\u001b[0m to view this Streamlit app on a browser, run it with the following\n",
            "  command:\n",
            "\n",
            "    streamlit run /usr/local/lib/python3.10/dist-packages/colab_kernel_launcher.py [ARGUMENTS]\n"
          ]
        }
      ],
      "source": [
        "import streamlit as st\n",
        "# Title of the app\n",
        "st.title('Hello World Streamlit App')\n",
        "\n",
        "# Display text\n",
        "st.write('Hello, World! This is my first Streamlit app.')\n",
        "\n",
        "# Add a slider widget\n",
        "number = st.slider('Pick a number', 0, 100, 50)\n",
        "st.write('You selected:', number)"
      ]
    },
    {
      "cell_type": "markdown",
      "id": "dPHkty-sL7pk",
      "metadata": {
        "id": "dPHkty-sL7pk"
      },
      "source": [
        "**Code explanation**\n",
        "\n",
        "The **st. title** method helps to write a title for our application\n",
        "\n",
        "The **st.write\"** is used to write any thing to the screen\n",
        "\n",
        "The **st.slider** will create a slider for you that you can be able to drag through.\n",
        "\n",
        "To see how our app is working, we will transfer the code above to a text editor and save it as app.py then we will use the streamlit run command to run our file from the command prompt."
      ]
    },
    {
      "cell_type": "markdown",
      "id": "djGKCaMiUytx",
      "metadata": {
        "id": "djGKCaMiUytx"
      },
      "source": [
        "\n",
        "**<h2>CREATING OUR MODEL</h2>**\n",
        "\n",
        "Now that we know the basic streamlit, lets create the model we will deploy using the stramlit app.\n",
        "\n",
        "**<h4>Importing the libraries</h4>**"
      ]
    },
    {
      "cell_type": "code",
      "execution_count": null,
      "id": "fCK_kGaffENE",
      "metadata": {
        "id": "fCK_kGaffENE"
      },
      "outputs": [],
      "source": [
        "#import pandas as pd\n",
        "#import numpy as np\n",
        "#from sklearn.linear_model import LinearRegression\n",
        "#from sklearn.model_selection import train_test_split\n",
        "#from sklearn.metrics import accuracy_score, confusion_matrix, classification_report\n",
        "#import matplotlib.pyplot as plt\n"
      ]
    },
    {
      "cell_type": "code",
      "execution_count": 3,
      "id": "vrCs4psf14P3",
      "metadata": {
        "id": "vrCs4psf14P3"
      },
      "outputs": [],
      "source": [
        "import pandas as pd\n",
        "import numpy as np\n",
        "from sklearn.linear_model import LinearRegression\n",
        "from sklearn.model_selection import train_test_split\n",
        "from sklearn.metrics import accuracy_score, confusion_matrix, classification_report\n",
        "import matplotlib.pyplot as plt"
      ]
    },
    {
      "cell_type": "markdown",
      "id": "RtzxGjz0ftfP",
      "metadata": {
        "id": "RtzxGjz0ftfP"
      },
      "source": [
        "Next we load the dataset for cholera"
      ]
    },
    {
      "cell_type": "code",
      "execution_count": 4,
      "id": "Yv5RJPg6fr2f",
      "metadata": {
        "id": "Yv5RJPg6fr2f"
      },
      "outputs": [],
      "source": [
        "#data=pd.read_excel(\"/content/drive/My Drive/ENGAGE/child_data.xlsx\")\n",
        "data = pd.read_csv(\"/content/childhealthdata.csv\")"
      ]
    },
    {
      "cell_type": "markdown",
      "id": "g4k79Rz5f4t0",
      "metadata": {
        "id": "g4k79Rz5f4t0"
      },
      "source": [
        "Lets look at how the data is by using the head function"
      ]
    },
    {
      "cell_type": "code",
      "execution_count": 5,
      "id": "-vnFd2VegADe",
      "metadata": {
        "colab": {
          "base_uri": "https://localhost:8080/",
          "height": 258
        },
        "id": "-vnFd2VegADe",
        "outputId": "5cc186d3-7d7f-426a-ae08-b76748268f0a"
      },
      "outputs": [
        {
          "output_type": "execute_result",
          "data": {
            "text/plain": [
              "   Child participated in POLIO campaign August 2013  diarrhea_status  weight  \\\n",
              "0                                                 1               No    16.2   \n",
              "1                                                 1               No    13.5   \n",
              "2                                                 1               No    13.4   \n",
              "3                                                 1               No    15.0   \n",
              "4                                                 1               No    15.2   \n",
              "\n",
              "   height residence     Sex  age age_category   education wealth_index  \n",
              "0   102.4     Rural  Female   45        36-47  Secondary+      Richest  \n",
              "1    92.5     Rural    Male   45        36-47     Primary       Second  \n",
              "2    88.5     Rural    Male   36        36-47     Primary       Fourth  \n",
              "3   101.3     Rural  Female   51        48-59     Primary       Fourth  \n",
              "4   105.0     Rural  Female   56        48-59     Primary       Fourth  "
            ],
            "text/html": [
              "\n",
              "  <div id=\"df-7bf428ea-03c9-41ca-a868-fb9974ba2fb7\" class=\"colab-df-container\">\n",
              "    <div>\n",
              "<style scoped>\n",
              "    .dataframe tbody tr th:only-of-type {\n",
              "        vertical-align: middle;\n",
              "    }\n",
              "\n",
              "    .dataframe tbody tr th {\n",
              "        vertical-align: top;\n",
              "    }\n",
              "\n",
              "    .dataframe thead th {\n",
              "        text-align: right;\n",
              "    }\n",
              "</style>\n",
              "<table border=\"1\" class=\"dataframe\">\n",
              "  <thead>\n",
              "    <tr style=\"text-align: right;\">\n",
              "      <th></th>\n",
              "      <th>Child participated in POLIO campaign August 2013</th>\n",
              "      <th>diarrhea_status</th>\n",
              "      <th>weight</th>\n",
              "      <th>height</th>\n",
              "      <th>residence</th>\n",
              "      <th>Sex</th>\n",
              "      <th>age</th>\n",
              "      <th>age_category</th>\n",
              "      <th>education</th>\n",
              "      <th>wealth_index</th>\n",
              "    </tr>\n",
              "  </thead>\n",
              "  <tbody>\n",
              "    <tr>\n",
              "      <th>0</th>\n",
              "      <td>1</td>\n",
              "      <td>No</td>\n",
              "      <td>16.2</td>\n",
              "      <td>102.4</td>\n",
              "      <td>Rural</td>\n",
              "      <td>Female</td>\n",
              "      <td>45</td>\n",
              "      <td>36-47</td>\n",
              "      <td>Secondary+</td>\n",
              "      <td>Richest</td>\n",
              "    </tr>\n",
              "    <tr>\n",
              "      <th>1</th>\n",
              "      <td>1</td>\n",
              "      <td>No</td>\n",
              "      <td>13.5</td>\n",
              "      <td>92.5</td>\n",
              "      <td>Rural</td>\n",
              "      <td>Male</td>\n",
              "      <td>45</td>\n",
              "      <td>36-47</td>\n",
              "      <td>Primary</td>\n",
              "      <td>Second</td>\n",
              "    </tr>\n",
              "    <tr>\n",
              "      <th>2</th>\n",
              "      <td>1</td>\n",
              "      <td>No</td>\n",
              "      <td>13.4</td>\n",
              "      <td>88.5</td>\n",
              "      <td>Rural</td>\n",
              "      <td>Male</td>\n",
              "      <td>36</td>\n",
              "      <td>36-47</td>\n",
              "      <td>Primary</td>\n",
              "      <td>Fourth</td>\n",
              "    </tr>\n",
              "    <tr>\n",
              "      <th>3</th>\n",
              "      <td>1</td>\n",
              "      <td>No</td>\n",
              "      <td>15.0</td>\n",
              "      <td>101.3</td>\n",
              "      <td>Rural</td>\n",
              "      <td>Female</td>\n",
              "      <td>51</td>\n",
              "      <td>48-59</td>\n",
              "      <td>Primary</td>\n",
              "      <td>Fourth</td>\n",
              "    </tr>\n",
              "    <tr>\n",
              "      <th>4</th>\n",
              "      <td>1</td>\n",
              "      <td>No</td>\n",
              "      <td>15.2</td>\n",
              "      <td>105.0</td>\n",
              "      <td>Rural</td>\n",
              "      <td>Female</td>\n",
              "      <td>56</td>\n",
              "      <td>48-59</td>\n",
              "      <td>Primary</td>\n",
              "      <td>Fourth</td>\n",
              "    </tr>\n",
              "  </tbody>\n",
              "</table>\n",
              "</div>\n",
              "    <div class=\"colab-df-buttons\">\n",
              "\n",
              "  <div class=\"colab-df-container\">\n",
              "    <button class=\"colab-df-convert\" onclick=\"convertToInteractive('df-7bf428ea-03c9-41ca-a868-fb9974ba2fb7')\"\n",
              "            title=\"Convert this dataframe to an interactive table.\"\n",
              "            style=\"display:none;\">\n",
              "\n",
              "  <svg xmlns=\"http://www.w3.org/2000/svg\" height=\"24px\" viewBox=\"0 -960 960 960\">\n",
              "    <path d=\"M120-120v-720h720v720H120Zm60-500h600v-160H180v160Zm220 220h160v-160H400v160Zm0 220h160v-160H400v160ZM180-400h160v-160H180v160Zm440 0h160v-160H620v160ZM180-180h160v-160H180v160Zm440 0h160v-160H620v160Z\"/>\n",
              "  </svg>\n",
              "    </button>\n",
              "\n",
              "  <style>\n",
              "    .colab-df-container {\n",
              "      display:flex;\n",
              "      gap: 12px;\n",
              "    }\n",
              "\n",
              "    .colab-df-convert {\n",
              "      background-color: #E8F0FE;\n",
              "      border: none;\n",
              "      border-radius: 50%;\n",
              "      cursor: pointer;\n",
              "      display: none;\n",
              "      fill: #1967D2;\n",
              "      height: 32px;\n",
              "      padding: 0 0 0 0;\n",
              "      width: 32px;\n",
              "    }\n",
              "\n",
              "    .colab-df-convert:hover {\n",
              "      background-color: #E2EBFA;\n",
              "      box-shadow: 0px 1px 2px rgba(60, 64, 67, 0.3), 0px 1px 3px 1px rgba(60, 64, 67, 0.15);\n",
              "      fill: #174EA6;\n",
              "    }\n",
              "\n",
              "    .colab-df-buttons div {\n",
              "      margin-bottom: 4px;\n",
              "    }\n",
              "\n",
              "    [theme=dark] .colab-df-convert {\n",
              "      background-color: #3B4455;\n",
              "      fill: #D2E3FC;\n",
              "    }\n",
              "\n",
              "    [theme=dark] .colab-df-convert:hover {\n",
              "      background-color: #434B5C;\n",
              "      box-shadow: 0px 1px 3px 1px rgba(0, 0, 0, 0.15);\n",
              "      filter: drop-shadow(0px 1px 2px rgba(0, 0, 0, 0.3));\n",
              "      fill: #FFFFFF;\n",
              "    }\n",
              "  </style>\n",
              "\n",
              "    <script>\n",
              "      const buttonEl =\n",
              "        document.querySelector('#df-7bf428ea-03c9-41ca-a868-fb9974ba2fb7 button.colab-df-convert');\n",
              "      buttonEl.style.display =\n",
              "        google.colab.kernel.accessAllowed ? 'block' : 'none';\n",
              "\n",
              "      async function convertToInteractive(key) {\n",
              "        const element = document.querySelector('#df-7bf428ea-03c9-41ca-a868-fb9974ba2fb7');\n",
              "        const dataTable =\n",
              "          await google.colab.kernel.invokeFunction('convertToInteractive',\n",
              "                                                    [key], {});\n",
              "        if (!dataTable) return;\n",
              "\n",
              "        const docLinkHtml = 'Like what you see? Visit the ' +\n",
              "          '<a target=\"_blank\" href=https://colab.research.google.com/notebooks/data_table.ipynb>data table notebook</a>'\n",
              "          + ' to learn more about interactive tables.';\n",
              "        element.innerHTML = '';\n",
              "        dataTable['output_type'] = 'display_data';\n",
              "        await google.colab.output.renderOutput(dataTable, element);\n",
              "        const docLink = document.createElement('div');\n",
              "        docLink.innerHTML = docLinkHtml;\n",
              "        element.appendChild(docLink);\n",
              "      }\n",
              "    </script>\n",
              "  </div>\n",
              "\n",
              "\n",
              "<div id=\"df-0eb10185-267b-4c15-a007-e5834a657e9a\">\n",
              "  <button class=\"colab-df-quickchart\" onclick=\"quickchart('df-0eb10185-267b-4c15-a007-e5834a657e9a')\"\n",
              "            title=\"Suggest charts\"\n",
              "            style=\"display:none;\">\n",
              "\n",
              "<svg xmlns=\"http://www.w3.org/2000/svg\" height=\"24px\"viewBox=\"0 0 24 24\"\n",
              "     width=\"24px\">\n",
              "    <g>\n",
              "        <path d=\"M19 3H5c-1.1 0-2 .9-2 2v14c0 1.1.9 2 2 2h14c1.1 0 2-.9 2-2V5c0-1.1-.9-2-2-2zM9 17H7v-7h2v7zm4 0h-2V7h2v10zm4 0h-2v-4h2v4z\"/>\n",
              "    </g>\n",
              "</svg>\n",
              "  </button>\n",
              "\n",
              "<style>\n",
              "  .colab-df-quickchart {\n",
              "      --bg-color: #E8F0FE;\n",
              "      --fill-color: #1967D2;\n",
              "      --hover-bg-color: #E2EBFA;\n",
              "      --hover-fill-color: #174EA6;\n",
              "      --disabled-fill-color: #AAA;\n",
              "      --disabled-bg-color: #DDD;\n",
              "  }\n",
              "\n",
              "  [theme=dark] .colab-df-quickchart {\n",
              "      --bg-color: #3B4455;\n",
              "      --fill-color: #D2E3FC;\n",
              "      --hover-bg-color: #434B5C;\n",
              "      --hover-fill-color: #FFFFFF;\n",
              "      --disabled-bg-color: #3B4455;\n",
              "      --disabled-fill-color: #666;\n",
              "  }\n",
              "\n",
              "  .colab-df-quickchart {\n",
              "    background-color: var(--bg-color);\n",
              "    border: none;\n",
              "    border-radius: 50%;\n",
              "    cursor: pointer;\n",
              "    display: none;\n",
              "    fill: var(--fill-color);\n",
              "    height: 32px;\n",
              "    padding: 0;\n",
              "    width: 32px;\n",
              "  }\n",
              "\n",
              "  .colab-df-quickchart:hover {\n",
              "    background-color: var(--hover-bg-color);\n",
              "    box-shadow: 0 1px 2px rgba(60, 64, 67, 0.3), 0 1px 3px 1px rgba(60, 64, 67, 0.15);\n",
              "    fill: var(--button-hover-fill-color);\n",
              "  }\n",
              "\n",
              "  .colab-df-quickchart-complete:disabled,\n",
              "  .colab-df-quickchart-complete:disabled:hover {\n",
              "    background-color: var(--disabled-bg-color);\n",
              "    fill: var(--disabled-fill-color);\n",
              "    box-shadow: none;\n",
              "  }\n",
              "\n",
              "  .colab-df-spinner {\n",
              "    border: 2px solid var(--fill-color);\n",
              "    border-color: transparent;\n",
              "    border-bottom-color: var(--fill-color);\n",
              "    animation:\n",
              "      spin 1s steps(1) infinite;\n",
              "  }\n",
              "\n",
              "  @keyframes spin {\n",
              "    0% {\n",
              "      border-color: transparent;\n",
              "      border-bottom-color: var(--fill-color);\n",
              "      border-left-color: var(--fill-color);\n",
              "    }\n",
              "    20% {\n",
              "      border-color: transparent;\n",
              "      border-left-color: var(--fill-color);\n",
              "      border-top-color: var(--fill-color);\n",
              "    }\n",
              "    30% {\n",
              "      border-color: transparent;\n",
              "      border-left-color: var(--fill-color);\n",
              "      border-top-color: var(--fill-color);\n",
              "      border-right-color: var(--fill-color);\n",
              "    }\n",
              "    40% {\n",
              "      border-color: transparent;\n",
              "      border-right-color: var(--fill-color);\n",
              "      border-top-color: var(--fill-color);\n",
              "    }\n",
              "    60% {\n",
              "      border-color: transparent;\n",
              "      border-right-color: var(--fill-color);\n",
              "    }\n",
              "    80% {\n",
              "      border-color: transparent;\n",
              "      border-right-color: var(--fill-color);\n",
              "      border-bottom-color: var(--fill-color);\n",
              "    }\n",
              "    90% {\n",
              "      border-color: transparent;\n",
              "      border-bottom-color: var(--fill-color);\n",
              "    }\n",
              "  }\n",
              "</style>\n",
              "\n",
              "  <script>\n",
              "    async function quickchart(key) {\n",
              "      const quickchartButtonEl =\n",
              "        document.querySelector('#' + key + ' button');\n",
              "      quickchartButtonEl.disabled = true;  // To prevent multiple clicks.\n",
              "      quickchartButtonEl.classList.add('colab-df-spinner');\n",
              "      try {\n",
              "        const charts = await google.colab.kernel.invokeFunction(\n",
              "            'suggestCharts', [key], {});\n",
              "      } catch (error) {\n",
              "        console.error('Error during call to suggestCharts:', error);\n",
              "      }\n",
              "      quickchartButtonEl.classList.remove('colab-df-spinner');\n",
              "      quickchartButtonEl.classList.add('colab-df-quickchart-complete');\n",
              "    }\n",
              "    (() => {\n",
              "      let quickchartButtonEl =\n",
              "        document.querySelector('#df-0eb10185-267b-4c15-a007-e5834a657e9a button');\n",
              "      quickchartButtonEl.style.display =\n",
              "        google.colab.kernel.accessAllowed ? 'block' : 'none';\n",
              "    })();\n",
              "  </script>\n",
              "</div>\n",
              "\n",
              "    </div>\n",
              "  </div>\n"
            ],
            "application/vnd.google.colaboratory.intrinsic+json": {
              "type": "dataframe",
              "variable_name": "data",
              "summary": "{\n  \"name\": \"data\",\n  \"rows\": 799,\n  \"fields\": [\n    {\n      \"column\": \"Child participated in POLIO campaign August 2013\",\n      \"properties\": {\n        \"dtype\": \"number\",\n        \"std\": 0,\n        \"min\": 1,\n        \"max\": 9,\n        \"num_unique_values\": 4,\n        \"samples\": [\n          2,\n          9,\n          1\n        ],\n        \"semantic_type\": \"\",\n        \"description\": \"\"\n      }\n    },\n    {\n      \"column\": \" diarrhea_status\",\n      \"properties\": {\n        \"dtype\": \"category\",\n        \"num_unique_values\": 3,\n        \"samples\": [\n          \"No\",\n          \"Yes\",\n          \"DK\"\n        ],\n        \"semantic_type\": \"\",\n        \"description\": \"\"\n      }\n    },\n    {\n      \"column\": \"weight\",\n      \"properties\": {\n        \"dtype\": \"number\",\n        \"std\": 3.4087288270461737,\n        \"min\": 3.1,\n        \"max\": 25.0,\n        \"num_unique_values\": 154,\n        \"samples\": [\n          6.9,\n          9.7,\n          18.7\n        ],\n        \"semantic_type\": \"\",\n        \"description\": \"\"\n      }\n    },\n    {\n      \"column\": \"height\",\n      \"properties\": {\n        \"dtype\": \"number\",\n        \"std\": 13.795704117480783,\n        \"min\": 45.0,\n        \"max\": 124.8,\n        \"num_unique_values\": 396,\n        \"samples\": [\n          85.4,\n          68.7,\n          78.4\n        ],\n        \"semantic_type\": \"\",\n        \"description\": \"\"\n      }\n    },\n    {\n      \"column\": \"residence\",\n      \"properties\": {\n        \"dtype\": \"category\",\n        \"num_unique_values\": 2,\n        \"samples\": [\n          \"Urban\",\n          \"Rural\"\n        ],\n        \"semantic_type\": \"\",\n        \"description\": \"\"\n      }\n    },\n    {\n      \"column\": \"Sex\",\n      \"properties\": {\n        \"dtype\": \"category\",\n        \"num_unique_values\": 2,\n        \"samples\": [\n          \"Male\",\n          \"Female\"\n        ],\n        \"semantic_type\": \"\",\n        \"description\": \"\"\n      }\n    },\n    {\n      \"column\": \"age\",\n      \"properties\": {\n        \"dtype\": \"number\",\n        \"std\": 16,\n        \"min\": 0,\n        \"max\": 59,\n        \"num_unique_values\": 60,\n        \"samples\": [\n          45,\n          4\n        ],\n        \"semantic_type\": \"\",\n        \"description\": \"\"\n      }\n    },\n    {\n      \"column\": \"age_category\",\n      \"properties\": {\n        \"dtype\": \"category\",\n        \"num_unique_values\": 6,\n        \"samples\": [\n          \"36-47\",\n          \"48-59\"\n        ],\n        \"semantic_type\": \"\",\n        \"description\": \"\"\n      }\n    },\n    {\n      \"column\": \"education\",\n      \"properties\": {\n        \"dtype\": \"category\",\n        \"num_unique_values\": 2,\n        \"samples\": [\n          \"Primary\",\n          \"Secondary+\"\n        ],\n        \"semantic_type\": \"\",\n        \"description\": \"\"\n      }\n    },\n    {\n      \"column\": \"wealth_index\",\n      \"properties\": {\n        \"dtype\": \"category\",\n        \"num_unique_values\": 5,\n        \"samples\": [\n          \"Second\",\n          \"Middle\"\n        ],\n        \"semantic_type\": \"\",\n        \"description\": \"\"\n      }\n    }\n  ]\n}"
            }
          },
          "metadata": {},
          "execution_count": 5
        }
      ],
      "source": [
        "data.head()"
      ]
    },
    {
      "cell_type": "code",
      "execution_count": 6,
      "id": "Q6zcZSMaippz",
      "metadata": {
        "id": "Q6zcZSMaippz"
      },
      "outputs": [],
      "source": [
        "missing_data=data.isnull().sum()"
      ]
    },
    {
      "cell_type": "code",
      "execution_count": 7,
      "id": "ixMezVaPiwS5",
      "metadata": {
        "colab": {
          "base_uri": "https://localhost:8080/"
        },
        "id": "ixMezVaPiwS5",
        "outputId": "1c4a76b0-1dfe-4ee9-844a-900d6652306e"
      },
      "outputs": [
        {
          "output_type": "stream",
          "name": "stdout",
          "text": [
            "Child participated in POLIO campaign August 2013     0\n",
            " diarrhea_status                                     0\n",
            "weight                                               0\n",
            "height                                               0\n",
            "residence                                            0\n",
            "Sex                                                  0\n",
            "age                                                  0\n",
            "age_category                                         0\n",
            "education                                           31\n",
            "wealth_index                                         0\n",
            "dtype: int64\n"
          ]
        }
      ],
      "source": [
        "print(missing_data)"
      ]
    },
    {
      "cell_type": "code",
      "source": [
        "data.columns\n"
      ],
      "metadata": {
        "colab": {
          "base_uri": "https://localhost:8080/"
        },
        "id": "vGHYKoV3K9NM",
        "outputId": "5ba21f87-1391-435e-ca23-fa7d189a5bb9"
      },
      "id": "vGHYKoV3K9NM",
      "execution_count": 8,
      "outputs": [
        {
          "output_type": "execute_result",
          "data": {
            "text/plain": [
              "Index(['Child participated in POLIO campaign August 2013', ' diarrhea_status',\n",
              "       'weight', 'height', 'residence', 'Sex', 'age', 'age_category',\n",
              "       'education', 'wealth_index'],\n",
              "      dtype='object')"
            ]
          },
          "metadata": {},
          "execution_count": 8
        }
      ]
    },
    {
      "cell_type": "code",
      "execution_count": 14,
      "id": "-d8aV7VekKR5",
      "metadata": {
        "id": "-d8aV7VekKR5"
      },
      "outputs": [],
      "source": [
        "#Create an X and y values\n",
        "# X=data[[\"age\",\"Sex\",\"residence\",\"Wealth_index\"]]\n",
        "X=data[\"age\"]\n",
        "y=data[\"weight\"]\n",
        "# X=X.to_numpy()\n",
        "X=X.to_numpy().reshape(-1, 1)\n",
        "y=y.to_numpy()"
      ]
    },
    {
      "cell_type": "code",
      "execution_count": 15,
      "id": "RgN3w19-k9P9",
      "metadata": {
        "id": "RgN3w19-k9P9"
      },
      "outputs": [],
      "source": [
        "X_train, X_test, y_train, y_test = train_test_split(X, y, test_size=0.3, random_state=42)"
      ]
    },
    {
      "cell_type": "code",
      "execution_count": 16,
      "id": "bUHTtIc4kpJS",
      "metadata": {
        "id": "bUHTtIc4kpJS"
      },
      "outputs": [],
      "source": [
        "model=LinearRegression()"
      ]
    },
    {
      "cell_type": "code",
      "execution_count": 17,
      "id": "Uin_HNDUkuWM",
      "metadata": {
        "id": "Uin_HNDUkuWM",
        "colab": {
          "base_uri": "https://localhost:8080/",
          "height": 75
        },
        "outputId": "48b812d4-26c8-44a7-f406-f740231993d1"
      },
      "outputs": [
        {
          "output_type": "execute_result",
          "data": {
            "text/plain": [
              "LinearRegression()"
            ],
            "text/html": [
              "<style>#sk-container-id-1 {color: black;}#sk-container-id-1 pre{padding: 0;}#sk-container-id-1 div.sk-toggleable {background-color: white;}#sk-container-id-1 label.sk-toggleable__label {cursor: pointer;display: block;width: 100%;margin-bottom: 0;padding: 0.3em;box-sizing: border-box;text-align: center;}#sk-container-id-1 label.sk-toggleable__label-arrow:before {content: \"▸\";float: left;margin-right: 0.25em;color: #696969;}#sk-container-id-1 label.sk-toggleable__label-arrow:hover:before {color: black;}#sk-container-id-1 div.sk-estimator:hover label.sk-toggleable__label-arrow:before {color: black;}#sk-container-id-1 div.sk-toggleable__content {max-height: 0;max-width: 0;overflow: hidden;text-align: left;background-color: #f0f8ff;}#sk-container-id-1 div.sk-toggleable__content pre {margin: 0.2em;color: black;border-radius: 0.25em;background-color: #f0f8ff;}#sk-container-id-1 input.sk-toggleable__control:checked~div.sk-toggleable__content {max-height: 200px;max-width: 100%;overflow: auto;}#sk-container-id-1 input.sk-toggleable__control:checked~label.sk-toggleable__label-arrow:before {content: \"▾\";}#sk-container-id-1 div.sk-estimator input.sk-toggleable__control:checked~label.sk-toggleable__label {background-color: #d4ebff;}#sk-container-id-1 div.sk-label input.sk-toggleable__control:checked~label.sk-toggleable__label {background-color: #d4ebff;}#sk-container-id-1 input.sk-hidden--visually {border: 0;clip: rect(1px 1px 1px 1px);clip: rect(1px, 1px, 1px, 1px);height: 1px;margin: -1px;overflow: hidden;padding: 0;position: absolute;width: 1px;}#sk-container-id-1 div.sk-estimator {font-family: monospace;background-color: #f0f8ff;border: 1px dotted black;border-radius: 0.25em;box-sizing: border-box;margin-bottom: 0.5em;}#sk-container-id-1 div.sk-estimator:hover {background-color: #d4ebff;}#sk-container-id-1 div.sk-parallel-item::after {content: \"\";width: 100%;border-bottom: 1px solid gray;flex-grow: 1;}#sk-container-id-1 div.sk-label:hover label.sk-toggleable__label {background-color: #d4ebff;}#sk-container-id-1 div.sk-serial::before {content: \"\";position: absolute;border-left: 1px solid gray;box-sizing: border-box;top: 0;bottom: 0;left: 50%;z-index: 0;}#sk-container-id-1 div.sk-serial {display: flex;flex-direction: column;align-items: center;background-color: white;padding-right: 0.2em;padding-left: 0.2em;position: relative;}#sk-container-id-1 div.sk-item {position: relative;z-index: 1;}#sk-container-id-1 div.sk-parallel {display: flex;align-items: stretch;justify-content: center;background-color: white;position: relative;}#sk-container-id-1 div.sk-item::before, #sk-container-id-1 div.sk-parallel-item::before {content: \"\";position: absolute;border-left: 1px solid gray;box-sizing: border-box;top: 0;bottom: 0;left: 50%;z-index: -1;}#sk-container-id-1 div.sk-parallel-item {display: flex;flex-direction: column;z-index: 1;position: relative;background-color: white;}#sk-container-id-1 div.sk-parallel-item:first-child::after {align-self: flex-end;width: 50%;}#sk-container-id-1 div.sk-parallel-item:last-child::after {align-self: flex-start;width: 50%;}#sk-container-id-1 div.sk-parallel-item:only-child::after {width: 0;}#sk-container-id-1 div.sk-dashed-wrapped {border: 1px dashed gray;margin: 0 0.4em 0.5em 0.4em;box-sizing: border-box;padding-bottom: 0.4em;background-color: white;}#sk-container-id-1 div.sk-label label {font-family: monospace;font-weight: bold;display: inline-block;line-height: 1.2em;}#sk-container-id-1 div.sk-label-container {text-align: center;}#sk-container-id-1 div.sk-container {/* jupyter's `normalize.less` sets `[hidden] { display: none; }` but bootstrap.min.css set `[hidden] { display: none !important; }` so we also need the `!important` here to be able to override the default hidden behavior on the sphinx rendered scikit-learn.org. See: https://github.com/scikit-learn/scikit-learn/issues/21755 */display: inline-block !important;position: relative;}#sk-container-id-1 div.sk-text-repr-fallback {display: none;}</style><div id=\"sk-container-id-1\" class=\"sk-top-container\"><div class=\"sk-text-repr-fallback\"><pre>LinearRegression()</pre><b>In a Jupyter environment, please rerun this cell to show the HTML representation or trust the notebook. <br />On GitHub, the HTML representation is unable to render, please try loading this page with nbviewer.org.</b></div><div class=\"sk-container\" hidden><div class=\"sk-item\"><div class=\"sk-estimator sk-toggleable\"><input class=\"sk-toggleable__control sk-hidden--visually\" id=\"sk-estimator-id-1\" type=\"checkbox\" checked><label for=\"sk-estimator-id-1\" class=\"sk-toggleable__label sk-toggleable__label-arrow\">LinearRegression</label><div class=\"sk-toggleable__content\"><pre>LinearRegression()</pre></div></div></div></div></div>"
            ]
          },
          "metadata": {},
          "execution_count": 17
        }
      ],
      "source": [
        "model.fit(X_train, y_train)"
      ]
    },
    {
      "cell_type": "code",
      "execution_count": 18,
      "id": "FjZYOjjwljYO",
      "metadata": {
        "id": "FjZYOjjwljYO"
      },
      "outputs": [],
      "source": [
        "y_pred=model.predict(X_test)"
      ]
    },
    {
      "cell_type": "code",
      "execution_count": null,
      "id": "FWKN7gbfl0TC",
      "metadata": {
        "id": "FWKN7gbfl0TC"
      },
      "outputs": [],
      "source": [
        "# accuracy = accuracy_score(y_test, y_pred)\n",
        "# conf_matrix = confusion_matrix(y_test, y_pred)\n",
        "# class_report = classification_report(y_test, y_pred)"
      ]
    },
    {
      "cell_type": "code",
      "execution_count": null,
      "id": "hiEo6ZfSl3eV",
      "metadata": {
        "id": "hiEo6ZfSl3eV"
      },
      "outputs": [],
      "source": [
        "#print(accuracy)\n",
        "#print(confusion_matrix)\n",
        "#print(class_report)"
      ]
    },
    {
      "cell_type": "code",
      "source": [
        "# Calculate regression metrics\n",
        "from sklearn.metrics import mean_squared_error, r2_score # Import necessary functions\n",
        "mse = mean_squared_error(y_test, y_pred)\n",
        "rmse = mean_squared_error(y_test, y_pred, squared=False)  # Root Mean Squared Error\n",
        "r2 = r2_score(y_test, y_pred)\n",
        "\n",
        "print(\"Mean Squared Error:\", mse)\n",
        "print(\"Root Mean Squared Error:\", rmse)\n",
        "print(\"R-squared:\", r2)"
      ],
      "metadata": {
        "colab": {
          "base_uri": "https://localhost:8080/"
        },
        "id": "XlzfQ6YDUOgQ",
        "outputId": "31ec630c-12cf-4510-957a-a792809d2c1e"
      },
      "id": "XlzfQ6YDUOgQ",
      "execution_count": 21,
      "outputs": [
        {
          "output_type": "stream",
          "name": "stdout",
          "text": [
            "Mean Squared Error: 3.4209133586369727\n",
            "Root Mean Squared Error: 1.849571128298929\n",
            "R-squared: 0.6899247712879044\n"
          ]
        }
      ]
    },
    {
      "cell_type": "markdown",
      "id": "CpV29M7NmOeR",
      "metadata": {
        "id": "CpV29M7NmOeR"
      },
      "source": [
        "Once we trained our model and we are satisfied with the output, we will save our model using joblib"
      ]
    },
    {
      "cell_type": "code",
      "execution_count": 23,
      "id": "4wMlZeiG8D_1",
      "metadata": {
        "id": "4wMlZeiG8D_1",
        "colab": {
          "base_uri": "https://localhost:8080/"
        },
        "outputId": "968f9dcc-9951-4951-96b3-ddc7c57c9164"
      },
      "outputs": [
        {
          "output_type": "execute_result",
          "data": {
            "text/plain": [
              "array([9.99698866])"
            ]
          },
          "metadata": {},
          "execution_count": 23
        }
      ],
      "source": [
        "# model.predict([[20,1,1,4]])\n",
        "model.predict([[20]])"
      ]
    },
    {
      "cell_type": "code",
      "execution_count": null,
      "id": "fJQ-6sGGmNel",
      "metadata": {
        "id": "fJQ-6sGGmNel"
      },
      "outputs": [],
      "source": [
        "# import joblib\n",
        "# joblib_file = \"/content/drive/My Drive/ENGAGE/BMI/multi_linear_regression_model_binary_categorical.joblib\"\n",
        "# joblib.dump(model, joblib_file)"
      ]
    },
    {
      "cell_type": "code",
      "source": [
        "import joblib\n",
        "import os\n",
        "\n",
        "# Create the directory if it doesn't exist\n",
        "joblib_file_path = \"/content/drive/My Drive/ENGAGE/BMI/\"\n",
        "os.makedirs(joblib_file_path, exist_ok=True)\n",
        "\n",
        "# Now save the model\n",
        "joblib_file = joblib_file_path + \"multi_linear_regression_model_binary_categorical.joblib\"\n",
        "joblib.dump(model, joblib_file)"
      ],
      "metadata": {
        "colab": {
          "base_uri": "https://localhost:8080/"
        },
        "id": "y8fU7v2waM7I",
        "outputId": "b40e73f2-08ab-4aac-8c57-9b06fe6826df"
      },
      "id": "y8fU7v2waM7I",
      "execution_count": 25,
      "outputs": [
        {
          "output_type": "execute_result",
          "data": {
            "text/plain": [
              "['/content/drive/My Drive/ENGAGE/BMI/multi_linear_regression_model_binary_categorical.joblib']"
            ]
          },
          "metadata": {},
          "execution_count": 25
        }
      ]
    },
    {
      "cell_type": "markdown",
      "id": "XJX4F4yOzehy",
      "metadata": {
        "id": "XJX4F4yOzehy"
      },
      "source": [
        "Once the model is saved we can now create a simple app which we can use to serve our model. We can create the app using streamlit as follows"
      ]
    },
    {
      "cell_type": "code",
      "execution_count": 26,
      "id": "TzXvz9WD7FEV",
      "metadata": {
        "id": "TzXvz9WD7FEV",
        "colab": {
          "base_uri": "https://localhost:8080/"
        },
        "outputId": "824bf6a0-2996-41d4-8170-756d41c71339"
      },
      "outputs": [
        {
          "output_type": "stream",
          "name": "stderr",
          "text": [
            "2024-08-22 09:28:58.502 Session state does not function when running a script without `streamlit run`\n"
          ]
        }
      ],
      "source": [
        "# Importing the necessary libraries\n",
        "import streamlit as st\n",
        "import joblib\n",
        "import numpy as np\n",
        "\n",
        "# Loading your saved model. Be sure to change the path if needed\n",
        "model = joblib.load('/content/drive/My Drive/ENGAGE/BMI/multi_linear_regression_model_binary_categorical.joblib')\n",
        "\n",
        "st.title('Child Weight Prediction App')\n",
        "st.write(\"This app predicts a child's weight based on the child's age and other features.\")\n",
        "\n",
        "# Input fields\n",
        "age_1 = st.number_input('Age', min_value=0.0, max_value=100.0, value=6.0)\n",
        "# Binary features using selectbox\n",
        "sex_1 = st.selectbox('Sex', options=[0, 1], index=0)\n",
        "area_1 = st.selectbox('Area', options=[0, 1], index=0)\n",
        "\n",
        "# Categorical feature with options 0 through 4\n",
        "wealth_1 = st.selectbox('Wealth Index Quintile', options=[0, 1, 2, 3, 4], index=0)\n",
        "\n",
        "#sex_1 = st.number_input('Sex', min_value=0.0, max_value=1.0, value=0.1)\n",
        "#area_1 = st.number_input('Area', min_value=0.0, max_value=1.0, value=0.1)\n",
        "#wealth_1 = st.number_input('Wealth Index Quintile', min_value=0.0, max_value=1.0, value=0.1)\n",
        "#feature1 = st.number_input('Feature 1', min_value=0.0, max_value=100.0, value=0.0)\n",
        "\n",
        "if st.button('Predict'):\n",
        "    # Prepare input features for prediction\n",
        "    #input_features = np.array([age])--for single input or simple linear model\n",
        "    input_features = np.array([[age_1, sex_1, area_1, wealth_1]])  # Ensure this is a 2D array\n",
        "\n",
        "    # Make prediction\n",
        "    prediction = model.predict(input_features)\n",
        "\n",
        "    # Display prediction\n",
        "    st.write(f'Predicted weight: {prediction[0]:.2f}')\n"
      ]
    },
    {
      "cell_type": "markdown",
      "id": "RjIRsATWAT6w",
      "metadata": {
        "id": "RjIRsATWAT6w"
      },
      "source": [
        "!npm install -g localtunnel"
      ]
    },
    {
      "cell_type": "code",
      "execution_count": 27,
      "id": "WUEYmzzt96b6",
      "metadata": {
        "id": "WUEYmzzt96b6",
        "colab": {
          "base_uri": "https://localhost:8080/"
        },
        "outputId": "23399345-80b8-4816-b54f-d8336c3b39b9"
      },
      "outputs": [
        {
          "output_type": "stream",
          "name": "stdout",
          "text": [
            "\u001b[K\u001b[?25h\n",
            "added 22 packages, and audited 23 packages in 2s\n",
            "\n",
            "3 packages are looking for funding\n",
            "  run `npm fund` for details\n",
            "\n",
            "1 \u001b[33m\u001b[1mmoderate\u001b[22m\u001b[39m severity vulnerability\n",
            "\n",
            "To address all issues (including breaking changes), run:\n",
            "  npm audit fix --force\n",
            "\n",
            "Run `npm audit` for details.\n"
          ]
        }
      ],
      "source": [
        "!npm install -g localtunnel"
      ]
    },
    {
      "cell_type": "code",
      "execution_count": 28,
      "id": "yopEXcXyA5ez",
      "metadata": {
        "id": "yopEXcXyA5ez"
      },
      "outputs": [],
      "source": [
        "!streamlit run /content/multi_linear_model_binary_categorical.py &>/content/multi_linear_binary_categorical_logs.txt &"
      ]
    },
    {
      "cell_type": "code",
      "execution_count": null,
      "id": "S2UsCm_NBN7C",
      "metadata": {
        "id": "S2UsCm_NBN7C",
        "colab": {
          "base_uri": "https://localhost:8080/"
        },
        "outputId": "766d8acf-74ea-4d1e-ae0a-a0c146c02ff5"
      },
      "outputs": [
        {
          "output_type": "stream",
          "name": "stdout",
          "text": [
            "your url is: https://nice-islands-work.loca.lt\n"
          ]
        }
      ],
      "source": [
        "!npx localtunnel --port 8501"
      ]
    },
    {
      "cell_type": "markdown",
      "id": "E3mRzwWQ3XD8",
      "metadata": {
        "id": "E3mRzwWQ3XD8"
      },
      "source": [
        "<h3> TASK </h2>\n",
        "\n",
        "Save the model you created in classfication session and deploy it"
      ]
    },
    {
      "cell_type": "markdown",
      "id": "glV1unrnzac3",
      "metadata": {
        "id": "glV1unrnzac3"
      },
      "source": []
    },
    {
      "cell_type": "code",
      "execution_count": null,
      "id": "sVyQYhQVfMPC",
      "metadata": {
        "id": "sVyQYhQVfMPC"
      },
      "outputs": [],
      "source": [
        "from google.colab import drive\n",
        "drive.mount('/content/drive')"
      ]
    },
    {
      "cell_type": "markdown",
      "id": "j_aP_q5HE0kO",
      "metadata": {
        "id": "j_aP_q5HE0kO"
      },
      "source": []
    }
  ],
  "metadata": {
    "colab": {
      "provenance": [],
      "include_colab_link": true
    },
    "kernelspec": {
      "display_name": "Python 3 (ipykernel)",
      "language": "python",
      "name": "python3"
    },
    "language_info": {
      "codemirror_mode": {
        "name": "ipython",
        "version": 3
      },
      "file_extension": ".py",
      "mimetype": "text/x-python",
      "name": "python",
      "nbconvert_exporter": "python",
      "pygments_lexer": "ipython3",
      "version": "3.10.9"
    }
  },
  "nbformat": 4,
  "nbformat_minor": 5
}